{
  "nbformat": 4,
  "nbformat_minor": 0,
  "metadata": {
    "colab": {
      "name": "Handling Dictionary Data.ipynb",
      "provenance": [],
      "collapsed_sections": []
    },
    "kernelspec": {
      "name": "python3",
      "display_name": "Python 3"
    }
  },
  "cells": [
    {
      "cell_type": "markdown",
      "metadata": {
        "id": "fkGZuB0PxLMd"
      },
      "source": [
        "#Handling Dictionary Data\n",
        "\n",
        "## Table of contents\n",
        "* [Create and print a dictionary](#a)\n",
        "* [Accessing items in a dictionary](#b) \n",
        "* [Looping items through a dictionary](#c)\n",
        "* [Change a value in a dictionary](#d)\n",
        "* [Check if key exists in a dictionary](#e)\n",
        "* [Print a dictionary length](#f)\n",
        "* [Adding Items to a dictionary](#g)\n",
        "* [Removing Items in a dictionary](#h)\n"
      ]
    },
    {
      "cell_type": "markdown",
      "metadata": {
        "id": "J9BOWpzVyId9"
      },
      "source": [
        "<a id='a'></a>\n",
        "#### Create and print a dictionary"
      ]
    },
    {
      "cell_type": "code",
      "metadata": {
        "id": "zk93aSh1xKcC",
        "outputId": "54c6ec83-760b-4335-ca34-dc0c99d677a7",
        "colab": {
          "base_uri": "https://localhost:8080/",
          "height": 34
        }
      },
      "source": [
        "dict = {'1st':'Juventus','2nd':'Inter','3rd':'Atalanta','4th':'Lazio'}\n",
        "print(dict)"
      ],
      "execution_count": 82,
      "outputs": [
        {
          "output_type": "stream",
          "text": [
            "{'1st': 'Juventus', '2nd': 'Inter', '3rd': 'Atalanta', '4th': 'Lazio'}\n"
          ],
          "name": "stdout"
        }
      ]
    },
    {
      "cell_type": "markdown",
      "metadata": {
        "id": "1q4nDCUZyNBj"
      },
      "source": [
        "<a id='b'></a>\n",
        "#### Accessing items in a dictionary"
      ]
    },
    {
      "cell_type": "code",
      "metadata": {
        "id": "xb_0aCNMyp-R",
        "outputId": "cb18ab2c-9081-4b94-83c9-c475bf9d8e3d",
        "colab": {
          "base_uri": "https://localhost:8080/",
          "height": 34
        }
      },
      "source": [
        "print(dict['1st']) "
      ],
      "execution_count": 60,
      "outputs": [
        {
          "output_type": "stream",
          "text": [
            "Juventus\n"
          ],
          "name": "stdout"
        }
      ]
    },
    {
      "cell_type": "markdown",
      "metadata": {
        "id": "RD4h6TvsyNnd"
      },
      "source": [
        "<a id='c'></a>\n",
        "#### Looping items through a *dictionary*"
      ]
    },
    {
      "cell_type": "code",
      "metadata": {
        "id": "V2VvTr4nyqjo",
        "outputId": "be1ea3ed-c7b2-46c2-967e-df1c99f955e2",
        "colab": {
          "base_uri": "https://localhost:8080/",
          "height": 187
        }
      },
      "source": [
        "# looping items \n",
        "for i in dict:\n",
        "    print(dict[i])\n",
        "\n",
        "print('\\n')    \n",
        "\n",
        "# looping items with kyes\n",
        "for i in dict:\n",
        "    print(i,dict[i])   "
      ],
      "execution_count": 80,
      "outputs": [
        {
          "output_type": "stream",
          "text": [
            "Juventus\n",
            "Inter\n",
            "Atalanta\n",
            "Lazio\n",
            "\n",
            "\n",
            "1st Juventus\n",
            "2nd Inter\n",
            "3rd Atalanta\n",
            "4th Lazio\n"
          ],
          "name": "stdout"
        }
      ]
    },
    {
      "cell_type": "markdown",
      "metadata": {
        "id": "P-AZxXzlyNR8"
      },
      "source": [
        "<a id='d'></a>\n",
        "#### Change a value in a dictionary"
      ]
    },
    {
      "cell_type": "code",
      "metadata": {
        "id": "W1pd7SUSyrTt",
        "outputId": "f532279d-00ff-43b8-f6f4-a53b1f5613a6",
        "colab": {
          "base_uri": "https://localhost:8080/",
          "height": 34
        }
      },
      "source": [
        "dict['4th']='Milan'\n",
        "print(dict['4th'])"
      ],
      "execution_count": 35,
      "outputs": [
        {
          "output_type": "stream",
          "text": [
            "Milan\n"
          ],
          "name": "stdout"
        }
      ]
    },
    {
      "cell_type": "markdown",
      "metadata": {
        "id": "bPeUDOzByMti"
      },
      "source": [
        "<a id='e'></a>\n",
        "#### Check if key exists in a dictionary"
      ]
    },
    {
      "cell_type": "code",
      "metadata": {
        "id": "zM0EGEDqyrvJ",
        "outputId": "d17f8cbd-675a-4137-ffbf-3aea80d96e46",
        "colab": {
          "base_uri": "https://localhost:8080/",
          "height": 34
        }
      },
      "source": [
        "if \"1st\" in dict:\n",
        "  print('Key 1st is exist in the dictionary and its value is:',dict['1st'])\n",
        "else:\n",
        "  print('Key not exist')"
      ],
      "execution_count": 62,
      "outputs": [
        {
          "output_type": "stream",
          "text": [
            "Key 1st is exist in the dictionary and its value is: Juventus\n"
          ],
          "name": "stdout"
        }
      ]
    },
    {
      "cell_type": "markdown",
      "metadata": {
        "id": "6Pi1rQtOyb6Z"
      },
      "source": [
        "<a id='f'></a>\n",
        "#### Print a dictionary length\n"
      ]
    },
    {
      "cell_type": "code",
      "metadata": {
        "id": "TuCoaSEKysT1",
        "outputId": "e251b620-323e-4db2-e2dd-fd8d6600eb39",
        "colab": {
          "base_uri": "https://localhost:8080/",
          "height": 34
        }
      },
      "source": [
        "# len() function finds the length \n",
        "print(len(dict))"
      ],
      "execution_count": 66,
      "outputs": [
        {
          "output_type": "stream",
          "text": [
            "4\n"
          ],
          "name": "stdout"
        }
      ]
    },
    {
      "cell_type": "markdown",
      "metadata": {
        "id": "yXSQTHE_ycO2"
      },
      "source": [
        "<a id='g'></a>\n",
        "#### Adding Items to a dictionary\n"
      ]
    },
    {
      "cell_type": "code",
      "metadata": {
        "id": "0oW8K1WgysoE",
        "outputId": "b1fca0f6-4f6f-4e22-8402-865c8216a50b",
        "colab": {
          "base_uri": "https://localhost:8080/",
          "height": 34
        }
      },
      "source": [
        "dict['5th']= \"Roma\"\n",
        "print(dict)"
      ],
      "execution_count": 81,
      "outputs": [
        {
          "output_type": "stream",
          "text": [
            "{'1st': 'Juventus', '2nd': 'Inter', '3rd': 'Atalanta', '4th': 'Lazio', '5th': 'Roma'}\n"
          ],
          "name": "stdout"
        }
      ]
    },
    {
      "cell_type": "markdown",
      "metadata": {
        "id": "bOKE4ubwybq8"
      },
      "source": [
        "<a id='h'></a>\n",
        "#### Removing Items in a dictionary"
      ]
    },
    {
      "cell_type": "code",
      "metadata": {
        "id": "0G5ETySH5AFr"
      },
      "source": [
        ""
      ],
      "execution_count": null,
      "outputs": []
    },
    {
      "cell_type": "code",
      "metadata": {
        "id": "dnYGIlXKyZGD",
        "outputId": "22cef388-cec7-4d09-a874-591bd563e81c",
        "colab": {
          "base_uri": "https://localhost:8080/",
          "height": 34
        }
      },
      "source": [
        "del dict['2nd']\n",
        "print(dict)"
      ],
      "execution_count": 71,
      "outputs": [
        {
          "output_type": "stream",
          "text": [
            "{'1st': 'Juventus', '3rd': 'Atalanta', '4th': 'Lazio'}\n"
          ],
          "name": "stdout"
        }
      ]
    }
  ]
}